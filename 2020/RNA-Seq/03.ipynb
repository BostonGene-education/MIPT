{
  "nbformat": 4,
  "nbformat_minor": 0,
  "metadata": {
    "colab": {
      "name": "RNA-Seq.ipynb",
      "provenance": [],
      "collapsed_sections": [],
      "toc_visible": true,
      "authorship_tag": "ABX9TyPnDsozQl9koyj2IfM2jIyq",
      "include_colab_link": true
    },
    "kernelspec": {
      "name": "python3",
      "display_name": "Python 3"
    }
  },
  "cells": [
    {
      "cell_type": "markdown",
      "metadata": {
        "id": "view-in-github",
        "colab_type": "text"
      },
      "source": [
        "<a href=\"https://colab.research.google.com/github/BostonGene-education/MIPT/blob/main/2020/RNA-Seq/03.ipynb\" target=\"_parent\"><img src=\"https://colab.research.google.com/assets/colab-badge.svg\" alt=\"Open In Colab\"/></a>"
      ]
    },
    {
      "cell_type": "markdown",
      "metadata": {
        "id": "QYVxe3OSzgqq"
      },
      "source": [
        "<img src=\"https://blastim.ru/wp-content/uploads/wpjobboard/company/49/company-logo/bostongene-logo.jpg\" width=500 align=\"center\">"
      ]
    },
    {
      "cell_type": "markdown",
      "metadata": {
        "id": "T_sCi8Dxvhgj"
      },
      "source": [
        "# Практикум по анализу RNA-Seq\n",
        "\n",
        "<b>Автор</b>: Сергей Исаев"
      ]
    },
    {
      "cell_type": "markdown",
      "metadata": {
        "id": "2i6SVdavvr-f"
      },
      "source": [
        "## Загрузка прочтений\n",
        "\n",
        "На лекции мы с вами говорили о базе данных NCBI SRA. Для того, чтобы загружать данные оттуда, необходим специальный пакет программ SRA Toolkit. Этот пакет плохо ставится на Google Colab, поэтому мы загрузим данные из другой большой базы &mdash; <a href=\"https://www.ebi.ac.uk/arrayexpress/\" target=\"_blank\">ArrayExpress</a>.\n",
        "\n",
        "Из датасета с ID <a href=\"https://www.ebi.ac.uk/arrayexpress/experiments/E-MTAB-9724/\" target=\"_blank\">E-MTAB-9724</a> загрузим несколько прочтений экспериментов RNA-Seq клеточных линий LUAD (аденокарциномы лёгкого) &mdash; с нокаутом гена <i>STK11</i> и с диким типом. <b>Загрузка прочтений может занять много времени.</b>"
      ]
    },
    {
      "cell_type": "code",
      "metadata": {
        "id": "rbT0YEqDvvc5"
      },
      "source": [
        "!mkdir raw_reads\n",
        "!cd raw_reads && mkdir sample_8 sample_9 sample_10 sample_11\n",
        "!cd raw_reads/sample_8 && wget ftp://ftp.sra.ebi.ac.uk/vol1/fastq/ERR478/003/ERR4781423/ERR4781423_1.fastq.gz && wget ftp://ftp.sra.ebi.ac.uk/vol1/fastq/ERR478/003/ERR4781423/ERR4781423_2.fastq.gz\n",
        "!cd raw_reads/sample_9 && wget ftp://ftp.sra.ebi.ac.uk/vol1/fastq/ERR478/004/ERR4781424/ERR4781424_1.fastq.gz && wget ftp://ftp.sra.ebi.ac.uk/vol1/fastq/ERR478/004/ERR4781424/ERR4781424_2.fastq.gz\n",
        "!cd raw_reads/sample_10 && wget ftp://ftp.sra.ebi.ac.uk/vol1/fastq/ERR478/005/ERR4781425/ERR4781425_1.fastq.gz && wget ftp://ftp.sra.ebi.ac.uk/vol1/fastq/ERR478/005/ERR4781425/ERR4781425_2.fastq.gz\n",
        "!cd raw_reads/sample_11 && wget ftp://ftp.sra.ebi.ac.uk/vol1/fastq/ERR478/006/ERR4781426/ERR4781426_1.fastq.gz && wget ftp://ftp.sra.ebi.ac.uk/vol1/fastq/ERR478/006/ERR4781426/ERR4781426_2.fastq.gz"
      ],
      "execution_count": null,
      "outputs": []
    },
    {
      "cell_type": "markdown",
      "metadata": {
        "id": "DSNK1GAXegW1"
      },
      "source": [
        "Теперь у нас есть папки, соответствующие образцам. В каждой папке находится по два файла &mdash; с прямыми и обратными прочтениями. Сначала нам необходимо провести контроль качества прочтений и установить программы <a href=\"https://www.bioinformatics.babraham.ac.uk/projects/fastqc/\" target=\"_blank\">FastQC</a> и <a href=\"https://multiqc.info/\" target=\"_blank\">MultiQC</a>. Первая программа оценит разнообразные метрики качества ридов каждого образца, вторая &mdash; аггрегирует их в один .html-файл. <b>Контроль качества каждого файла занимает по несколько минут.</b>"
      ]
    },
    {
      "cell_type": "code",
      "metadata": {
        "id": "hWxikZCtec1A"
      },
      "source": [
        "!sudo apt install fastqc\n",
        "!mkdir  raw_reads/fastqc\n",
        "!fastqc -o raw_reads/fastqc raw_reads/sample_*/*.fastq.gz"
      ],
      "execution_count": null,
      "outputs": []
    },
    {
      "cell_type": "markdown",
      "metadata": {
        "id": "Sf1d_jQy6T0c"
      },
      "source": [
        "На основе получившихся файлов FastQC запускаем MultiQC."
      ]
    },
    {
      "cell_type": "code",
      "metadata": {
        "id": "Z5wRGiXewMs5"
      },
      "source": [
        "!pip install multiqc\n",
        "!mkdir raw_reads/multiqc\n",
        "!multiqc -o raw_reads/multiqc raw_reads/fastqc/"
      ],
      "execution_count": null,
      "outputs": []
    },
    {
      "cell_type": "markdown",
      "metadata": {
        "id": "l14oybv2gm0x"
      },
      "source": [
        "После этого можно загрузить .html-отчёт о качестве (сейчас он находится в папке <code>raw_reads/multiqc</code>) себе на компьютер и посмотреть, всё ли хорошо с прочтениями. Рассмотрим каждый пункт отчёта:\n",
        "1. Sequence Quality Histograms\n",
        "2. Per Sequence Quality Scores\n",
        "3. <b>Per Base Sequence Content</b> &mdash; проблемы тут связаны с особенностью подготовки библиотеки (использовались случайные праймеры)\n",
        "4. Per Sequence GC Content\n",
        "5. Per Base N Content\n",
        "6. Sequence Length Distribution\n",
        "7. <b>Sequence Duplication Levels</b> &mdash; этот анализ предполагает, что высокое количество дублирующихся прочтений говорит о том, что возникли артефакты ПЦР (это справедливо для, например, геномных библиотек, в которых встретить две повторяющиеся последовательности очень маловероятно). Однако для RNA-Seq-экспериментов это нормально из-за того, что какие-то гены могут встречаться достаточно много из-за высокой копийности их РНК (<a href=\"https://www.bioinformatics.babraham.ac.uk/projects/fastqc/Help/3%20Analysis%20Modules/8%20Duplicate%20Sequences.html\" target=\"_blank\">источник</a>)\n",
        "8. <b>Overrepresented sequences</b> &mdash; проблема вызвана аналогичными седьмому пункту проблемами (<a href=\"https://www.bioinformatics.babraham.ac.uk/projects/fastqc/Help/3%20Analysis%20Modules/9%20Overrepresented%20Sequences.html\" target=\"_blank\">источник</a>)\n",
        "9. <b>Adapter Content</b> &mdash; у нас в большом числе прочтений содержатся технические адаптеры. Однако большая часть современных алгоритмов для работы с RNA-Seq (в т.ч. и kallisto и STAR) автоматически прорабатывают эту проблему, поэтому мануального устранения не требуется (<a href=\"https://dnatech.genomecenter.ucdavis.edu/faqs/when-should-i-trim-my-illumina-reads-and-how-should-i-do-it/\" target=\"_blank\">про то, когда и зачем лучше обрезать адаптеры</a>)\n",
        "\n",
        "Из этого всего можно сделать вывод, что прочтения у нас хорошие и с ними можно работать."
      ]
    },
    {
      "cell_type": "markdown",
      "metadata": {
        "id": "8ugLuBT5mDEM"
      },
      "source": [
        "## Подсчёт экспрессий\n",
        "\n",
        "Непосредственно оценка экспрессий будет производиться при помощи программы <a href=\"https://pachterlab.github.io/kallisto/\" target=\"_blank\">kallisto</a> (<a href=\"https://www.nature.com/articles/nbt.3519\" target=\"_blank\">Bray et al, 2016</a>). В отличие от других подходов, в kallisto отсутствует стадия выравнивания прочтений на референсный геном или транскриптом. Данный подход строит граф де Брёйна из k-меров транскриптома, после k-меры прочтений образуют пути в этом графе. Основываясь на этих путях, производится максимально правдоподобная оценка экспрессий различных изоформ транскриптов (см. визуализацию ниже).\n",
        "\n",
        "<center><img src=\"https://tinyheero.github.io/assets/kallisto-fig1-a-c.png\" width=500><img src=\"https://tinyheero.github.io/assets/kallisto-fig1-d-e.png\" width=500></center>\n",
        "\n",
        "Подробнее про работу метода можно прочитать <a href=\"https://bioinfo.iric.ca/understanding-how-kallisto-works/#:~:text=The%20idea%20behind%20kallisto%20is,(not%20the%20whole%20genome).\" target=\"_blank\">здесь</a>. Первым шагом мы загрузим kallisto из git-репозитория и установим эту программу."
      ]
    },
    {
      "cell_type": "code",
      "metadata": {
        "id": "ide5eg5tmNFF"
      },
      "source": [
        "!git clone https://github.com/pachterlab/kallisto.git\n",
        "!apt-get install autoconf\n",
        "!cd kallisto && mkdir build && cd build && cmake .. && make"
      ],
      "execution_count": null,
      "outputs": []
    },
    {
      "cell_type": "markdown",
      "metadata": {
        "id": "lbPIlgLws7xH"
      },
      "source": [
        "Теперь загружаем и распаковываем файл с индексированным транскриптомом. В общем случае можно сгенерировать его самому, однако в случае с человеком он обычно уже есть в открытом доступе. Если потребуется делать индекс самостоятельно, то следует воспользоваться командой <code>kallisto index</code> (команда работает на <b>референсном транскриптоме</b>, а не геноме &mdash; именно из транскриптома в итоге будет строиться референсный граф де Брёйна)."
      ]
    },
    {
      "cell_type": "code",
      "metadata": {
        "id": "EpYbLVuelpcz"
      },
      "source": [
        "!wget https://github.com/pachterlab/kallisto-transcriptome-indices/releases/download/ensembl-96/homo_sapiens.tar.gz\n",
        "!tar -xvzf homo_sapiens.tar.gz && rm homo_sapiens.tar.gz"
      ],
      "execution_count": null,
      "outputs": []
    },
    {
      "cell_type": "markdown",
      "metadata": {
        "id": "yTXKeqm-JHcq"
      },
      "source": [
        "Теперь всё готово к запуску. Итоговые экспрессии выведем в папку <code>expression_data</code>. Для начала запустим на одном образце и посмотрим, что у нас получилось. <b>Эта стадия может занять много времени.</b>"
      ]
    },
    {
      "cell_type": "code",
      "metadata": {
        "id": "9FESf5of9CA-",
        "colab": {
          "base_uri": "https://localhost:8080/"
        },
        "outputId": "0699b3b6-e591-4ece-83c4-f39630de0ce8"
      },
      "source": [
        "!mkdir expression_data\n",
        "!./kallisto/build/src/kallisto quant \\\n",
        "    -i homo_sapiens/transcriptome.idx \\\n",
        "    -o expression_data/sample_8 \\\n",
        "    raw_reads/sample_8/ERR4781423_1.fastq.gz raw_reads/sample_8/ERR4781423_2.fastq.gz"
      ],
      "execution_count": null,
      "outputs": [
        {
          "output_type": "stream",
          "text": [
            "\n",
            "[quant] fragment length distribution will be estimated from the data\n",
            "[index] k-mer length: 31\n",
            "[index] number of targets: 188,753\n",
            "[index] number of k-mers: 109,544,288\n",
            "tcmalloc: large alloc 3221225472 bytes == 0x5596c724a000 @  0x7f1698726887 0x5596c5b72ad2 0x5596c5b6b061 0x5596c5b4004a 0x7f16975a6bf7 0x5596c5b440da\n",
            "[index] number of equivalence classes: 760,757\n",
            "[quant] running in paired-end mode\n",
            "[quant] will process pair 1: raw_reads/sample_8/ERR4781423_1.fastq.gz\n",
            "                             raw_reads/sample_8/ERR4781423_2.fastq.gz\n",
            "[quant] finding pseudoalignments for the reads ... done\n",
            "[quant] processed 29,071,502 reads, 26,150,309 reads pseudoaligned\n",
            "[quant] estimated average fragment length: 227.52\n",
            "[   em] quantifying the abundances ... done\n",
            "[   em] the Expectation-Maximization algorithm ran for 1,290 rounds\n",
            "\n"
          ],
          "name": "stdout"
        }
      ]
    },
    {
      "cell_type": "markdown",
      "metadata": {
        "id": "qekDXQpohHWq"
      },
      "source": [
        "Теперь посмотрим, что хранится в файле <code>abundance.tsv</code> в папке <code>expression_data/sample_8/</code> (это основной результат работы kallisto). Выведем строки с 990 по 1000, а также первую (с заголовком)."
      ]
    },
    {
      "cell_type": "code",
      "metadata": {
        "colab": {
          "base_uri": "https://localhost:8080/"
        },
        "id": "G0nBwMZohGOE",
        "outputId": "987f2995-bf9f-4b5a-de88-ac2c349aa4bc"
      },
      "source": [
        "!head -n 1 expression_data/sample_8/abundance.tsv | tail -n 10\n",
        "!head -n 1000 expression_data/sample_8/abundance.tsv | tail -n 10"
      ],
      "execution_count": null,
      "outputs": [
        {
          "output_type": "stream",
          "text": [
            "target_id\tlength\teff_length\test_counts\ttpm\n",
            "ENST00000617210.4\t1547\t1320.48\t0\t0\n",
            "ENST00000611450.1\t1358\t1131.48\t0\t0\n",
            "ENST00000616910.4\t2886\t2659.48\t58.9113\t1.21791\n",
            "ENST00000613528.4\t4138\t3911.48\t4.12069\t0.0579217\n",
            "ENST00000611667.1\t2765\t2538.48\t0\t0\n",
            "ENST00000620720.3\t711\t485.355\t2108.56\t238.857\n",
            "ENST00000625297.1\t476\t260.075\t3.05918\t0.646725\n",
            "ENST00000610406.1\t353\t159.059\t72.4051\t25.0279\n",
            "ENST00000618740.4\t3421\t3194.48\t0\t0\n",
            "ENST00000615699.1\t3250\t3023.48\t0\t0\n"
          ],
          "name": "stdout"
        }
      ]
    },
    {
      "cell_type": "markdown",
      "metadata": {
        "id": "h6P9ZcUrhRHN"
      },
      "source": [
        "Мы видим, что напротив каждого <code>target_id</code> в конце строки стоят колонки <code>est_counts</code> и <code>tpm</code>. Это и есть наши уровни экспрессии. Важно, что, в отличие от результатов работы HTSeq и прочих алгоритмов подсчёта экспрессии, основанных на выравнивании, kallisto оценивает представленность транскриптов, а не физически считает их. Поэтому число ридов на транскрипт <code>est_counts</code> может быть нецелым (позже мы просто округлим его). Проверим, правда ли сумма значений в колонке <code>tpm</code> равна миллиону, а также соответствует ли сумма <code>est_counts</code> числу прочтений из изначального .fastq-файла (для восьмого образца это 29 071 502, число взято из репорта MultiQC)."
      ]
    },
    {
      "cell_type": "code",
      "metadata": {
        "colab": {
          "base_uri": "https://localhost:8080/"
        },
        "id": "T0u2cm-oEEyv",
        "outputId": "fbdcae2e-de22-45a7-9fd2-aa2a2ee0e254"
      },
      "source": [
        "import pandas as pd\n",
        "\n",
        "sample8_kallisto_output = pd.read_csv(\"expression_data/sample_8/abundance.tsv\",\n",
        "                                      sep=\"\\t\", index_col=0)\n",
        "tpm_sum = sample8_kallisto_output.tpm.sum()\n",
        "count_sum = sample8_kallisto_output.est_counts.sum()\n",
        "\n",
        "print(\"Counts: {}\\nTPM: {}\".format(tpm_sum, count_sum))"
      ],
      "execution_count": null,
      "outputs": [
        {
          "output_type": "stream",
          "text": [
            "Counts: 999999.890942333\n",
            "TPM: 26150307.8847599\n"
          ],
          "name": "stdout"
        }
      ]
    },
    {
      "cell_type": "markdown",
      "metadata": {
        "id": "l1_CNyh2ESh9"
      },
      "source": [
        "Разница в два миллиона прочтений, однако, скорее всего, это неоткартировавшиеся прочтения &mdash; такое их число нормально для эксперимента. Давайте тогда проведём анализ и с оставшимися образцами."
      ]
    },
    {
      "cell_type": "code",
      "metadata": {
        "id": "kaH_WI4shXV0"
      },
      "source": [
        "!./kallisto/build/src/kallisto quant \\\n",
        "    -i homo_sapiens/transcriptome.idx \\\n",
        "    -o expression_data/sample_9 \\\n",
        "    raw_reads/sample_9/ERR4781424_1.fastq.gz raw_reads/sample_9/ERR4781424_2.fastq.gz\n",
        "!./kallisto/build/src/kallisto quant \\\n",
        "    -i homo_sapiens/transcriptome.idx \\\n",
        "    -o expression_data/sample_10 \\\n",
        "    raw_reads/sample_10/ERR4781425_1.fastq.gz raw_reads/sample_10/ERR4781425_2.fastq.gz\n",
        "!./kallisto/build/src/kallisto quant \\\n",
        "    -i homo_sapiens/transcriptome.idx \\\n",
        "    -o expression_data/sample_11 \\\n",
        "    raw_reads/sample_11/ERR4781426_1.fastq.gz raw_reads/sample_11/ERR4781426_2.fastq.gz"
      ],
      "execution_count": null,
      "outputs": []
    },
    {
      "cell_type": "markdown",
      "metadata": {
        "id": "88glZuOzkIih"
      },
      "source": [
        "Склеим все обсчитанные экспрессии в одну сводную сводную таблицу."
      ]
    },
    {
      "cell_type": "code",
      "metadata": {
        "colab": {
          "base_uri": "https://localhost:8080/",
          "height": 225
        },
        "id": "f0A1I8hkiLlg",
        "outputId": "8ba062d4-923f-4e80-ab6b-5f5a35c63574"
      },
      "source": [
        "expressions_counts = pd.concat(\n",
        "    [pd.read_csv(\n",
        "        \"expression_data/{}/abundance.tsv\".format(expression),\n",
        "        sep=\"\\t\", index_col=0, header=0, usecols=[\"target_id\", expression],\n",
        "        names=[\"target_id\", \"1\", \"2\", expression, \"3\"]\n",
        "    ) for expression in [\"sample_8\", \"sample_9\", \"sample_10\", \"sample_11\"]],\n",
        "    axis=1, join=\"inner\"\n",
        ")\n",
        "expressions_counts.columns = [\"sample_8\", \"sample_9\", \"sample_10\", \"sample_11\"]\n",
        "expressions_counts.head()"
      ],
      "execution_count": null,
      "outputs": [
        {
          "output_type": "execute_result",
          "data": {
            "text/html": [
              "<div>\n",
              "<style scoped>\n",
              "    .dataframe tbody tr th:only-of-type {\n",
              "        vertical-align: middle;\n",
              "    }\n",
              "\n",
              "    .dataframe tbody tr th {\n",
              "        vertical-align: top;\n",
              "    }\n",
              "\n",
              "    .dataframe thead th {\n",
              "        text-align: right;\n",
              "    }\n",
              "</style>\n",
              "<table border=\"1\" class=\"dataframe\">\n",
              "  <thead>\n",
              "    <tr style=\"text-align: right;\">\n",
              "      <th></th>\n",
              "      <th>sample_8</th>\n",
              "      <th>sample_9</th>\n",
              "      <th>sample_10</th>\n",
              "      <th>sample_11</th>\n",
              "    </tr>\n",
              "    <tr>\n",
              "      <th>target_id</th>\n",
              "      <th></th>\n",
              "      <th></th>\n",
              "      <th></th>\n",
              "      <th></th>\n",
              "    </tr>\n",
              "  </thead>\n",
              "  <tbody>\n",
              "    <tr>\n",
              "      <th>ENST00000631435.1</th>\n",
              "      <td>0.0</td>\n",
              "      <td>0.0</td>\n",
              "      <td>0.0</td>\n",
              "      <td>0.0</td>\n",
              "    </tr>\n",
              "    <tr>\n",
              "      <th>ENST00000434970.2</th>\n",
              "      <td>0.0</td>\n",
              "      <td>0.0</td>\n",
              "      <td>0.0</td>\n",
              "      <td>0.0</td>\n",
              "    </tr>\n",
              "    <tr>\n",
              "      <th>ENST00000448914.1</th>\n",
              "      <td>0.0</td>\n",
              "      <td>0.0</td>\n",
              "      <td>0.0</td>\n",
              "      <td>0.0</td>\n",
              "    </tr>\n",
              "    <tr>\n",
              "      <th>ENST00000415118.1</th>\n",
              "      <td>0.0</td>\n",
              "      <td>0.0</td>\n",
              "      <td>0.0</td>\n",
              "      <td>0.0</td>\n",
              "    </tr>\n",
              "    <tr>\n",
              "      <th>ENST00000632684.1</th>\n",
              "      <td>0.0</td>\n",
              "      <td>0.0</td>\n",
              "      <td>0.0</td>\n",
              "      <td>0.0</td>\n",
              "    </tr>\n",
              "  </tbody>\n",
              "</table>\n",
              "</div>"
            ],
            "text/plain": [
              "                   sample_8  sample_9  sample_10  sample_11\n",
              "target_id                                                  \n",
              "ENST00000631435.1       0.0       0.0        0.0        0.0\n",
              "ENST00000434970.2       0.0       0.0        0.0        0.0\n",
              "ENST00000448914.1       0.0       0.0        0.0        0.0\n",
              "ENST00000415118.1       0.0       0.0        0.0        0.0\n",
              "ENST00000632684.1       0.0       0.0        0.0        0.0"
            ]
          },
          "metadata": {
            "tags": []
          },
          "execution_count": 24
        }
      ]
    },
    {
      "cell_type": "markdown",
      "metadata": {
        "id": "IMhfmvsxjgyx"
      },
      "source": [
        "## Анализ экспрессий\n",
        "\n",
        "На этом шаге мы будем искать дифференциально экспрессированные между образцами транскрипты."
      ]
    },
    {
      "cell_type": "markdown",
      "metadata": {
        "id": "zZvg5iI-jjRt"
      },
      "source": [
        "### rpy2\n",
        "\n",
        "Из-за того, что анализ дифференциальной экспрессии в основном написан для R, мы будем пользоваться пакетом rpy2, чтобы выполнять код R в Python."
      ]
    },
    {
      "cell_type": "code",
      "metadata": {
        "id": "pcWZAq3rjTm-"
      },
      "source": [
        "import rpy2\n",
        "from rpy2.robjects import r, pandas2ri\n",
        "\n",
        "%load_ext rpy2.ipython\n",
        "pandas2ri.activate()"
      ],
      "execution_count": null,
      "outputs": []
    },
    {
      "cell_type": "markdown",
      "metadata": {
        "id": "ICII1vkTj2oE"
      },
      "source": [
        "Вот таким образом выглядит ячейка, которая будет выполняться как R-скрипт:"
      ]
    },
    {
      "cell_type": "code",
      "metadata": {
        "colab": {
          "base_uri": "https://localhost:8080/"
        },
        "id": "TGkP8gKoj0mE",
        "outputId": "8676cc29-5b1c-435a-af57-b87cde4a2b9b"
      },
      "source": [
        "%%R\n",
        "a <- c(1,2,3)\n",
        "a <- a**2\n",
        "print(a)"
      ],
      "execution_count": null,
      "outputs": [
        {
          "output_type": "stream",
          "text": [
            "[1] 1 4 9\n"
          ],
          "name": "stdout"
        }
      ]
    },
    {
      "cell_type": "markdown",
      "metadata": {
        "id": "tRURYMxsj6yc"
      },
      "source": [
        "Для того, чтобы объекты из окружения R попали в окружение Python (и наоборот), необходимо выполнить следующее:"
      ]
    },
    {
      "cell_type": "code",
      "metadata": {
        "colab": {
          "base_uri": "https://localhost:8080/"
        },
        "id": "VI6B7GENj5Rc",
        "outputId": "d34510f2-ebab-429d-c64b-4313d9b53c25"
      },
      "source": [
        "a = 20\n",
        "%R -i a\n",
        "%R a <- a**2\n",
        "%R -o a\n",
        "print(a, type(a))"
      ],
      "execution_count": null,
      "outputs": [
        {
          "output_type": "stream",
          "text": [
            "[400.] <class 'numpy.ndarray'>\n"
          ],
          "name": "stdout"
        }
      ]
    },
    {
      "cell_type": "markdown",
      "metadata": {
        "id": "cyeE9_BCkQ1g"
      },
      "source": [
        "Если хочется более подробно овладеть rpy2, то лучше прочитайте <a href=\"https://rpy2.github.io/doc/latest/html/index.html\" target=\"_blank\">его документацию</a>."
      ]
    },
    {
      "cell_type": "markdown",
      "metadata": {
        "id": "_l2AziC-kss-"
      },
      "source": [
        "### Анализ дифференциальной экспрессии при помощи DESeq2\n",
        "\n",
        "Сейчас необходимо будет установить <a href=\"http://bioconductor.org/packages/release/bioc/html/DESeq2.html\" target=\"_blank\">DESeq2</a> (<a href=\"https://genomebiology.biomedcentral.com/articles/10.1186/s13059-014-0550-8\" target=\"_blank\">Love et al, 2014</a>) в наше окружение. Этот пакет нужен для параметрического анализа дифференциальной экспрессии и использует обобщённые линейные модели. На вход он получает матрицу с <b>ненормированными</b> каунтами (не TPM и не RPKM). <b>Установка DESeq2 может занять несколько минут.</b>"
      ]
    },
    {
      "cell_type": "code",
      "metadata": {
        "id": "zzRdaGfFkqeY"
      },
      "source": [
        "%%R\n",
        "if (!requireNamespace(\"BiocManager\", quietly = TRUE))\n",
        "    install.packages(\"BiocManager\")\n",
        "\n",
        "BiocManager::install(\"DESeq2\")\n",
        "\n",
        "library(\"DESeq2\")\n",
        "library(ggplot2)"
      ],
      "execution_count": null,
      "outputs": []
    },
    {
      "cell_type": "code",
      "metadata": {
        "id": "-LnGMH_xk1RG"
      },
      "source": [
        "%%R\n",
        "library(\"DESeq2\")\n",
        "library(ggplot2)"
      ],
      "execution_count": null,
      "outputs": []
    },
    {
      "cell_type": "markdown",
      "metadata": {
        "id": "bb99OOfAk26D"
      },
      "source": [
        "На этом этапе мы перегружаем наш датафрейм из Python в R, чтобы дальше с ним работать там. Округлим наши экспрессии, чтобы они стали целочисленными (DESeq2 не умеет работать с нецелыми значениями каунтов) &mdash; для этого жёстко обозначим тип данных экспрессии как <code>int32</code>. Также во время портирования в R теряется индекс датафрейма (ID транскриптов), поэтому сохраним его в отдельную переменную."
      ]
    },
    {
      "cell_type": "code",
      "metadata": {
        "id": "61Be9VxHk4_I"
      },
      "source": [
        "expr_matrix = expressions_counts.copy()\n",
        "expr_matrix = expr_matrix.astype(\"int32\")\n",
        "expr_matrix.index.name = \"\"\n",
        "gene_id = expr_matrix.index.copy()\n",
        "%R -i expr_matrix\n",
        "%R -i gene_id"
      ],
      "execution_count": null,
      "outputs": []
    },
    {
      "cell_type": "code",
      "metadata": {
        "colab": {
          "base_uri": "https://localhost:8080/"
        },
        "id": "aZYV6qcVlM0-",
        "outputId": "b32df3b8-88f2-456d-84a9-fc1120cff679"
      },
      "source": [
        "%%R\n",
        "rownames(expr_matrix) = make.names(gene_id, unique=TRUE)\n",
        "head(expr_matrix)"
      ],
      "execution_count": null,
      "outputs": [
        {
          "output_type": "stream",
          "text": [
            "                  sample_8 sample_9 sample_10 sample_11\n",
            "ENST00000631435.1        0        0         0         0\n",
            "ENST00000434970.2        0        0         0         0\n",
            "ENST00000448914.1        0        0         0         0\n",
            "ENST00000415118.1        0        0         0         0\n",
            "ENST00000632684.1        0        0         0         0\n",
            "ENST00000604446.1        0        0         0         0\n"
          ],
          "name": "stdout"
        }
      ]
    },
    {
      "cell_type": "markdown",
      "metadata": {
        "id": "kLUz4ByzlO8W"
      },
      "source": [
        "Видим, что в переменной <code>expr_matrix</code> в R содержится то же, что и в переменной <code>expressions_counts</code> в Python.\n",
        "\n",
        "Теперь необходимо создать <b>аннотацию</b> (переменная <code>colData</code> для каждого семпла). Аннотация представляет из себя ещё один датафрейм. В нём чисто столбцов совпадает с числом столбцов в датафрейме с экспрессиями, а помимо названий образцов там у нас будут различные <b>мета-данные</b>, в том числе и те, которые будут разделять образцы для дальнейшей дифференциальной экспрессии (у нас это будет условием <code>condition</code> с двумя возможными значениями &mdash; WT и Mut).\n",
        "\n",
        "После из датафреймов <code>expr_matrix</code> и <code>conditions</code> мы сделаем новую переменную <code>dds</code> специального типа, который используется при работе в <code>DESeq2</code>. Также во время создания объекта DESeqDataSet мы указываем условие, по которому будем считать дифференциальную экспрессию. Важно иметь в виду, что модель может оценивать дифференциальную экспрессию в зависимости от сразу нескольких факторов, которые могут быть в том числе и количественные."
      ]
    },
    {
      "cell_type": "code",
      "metadata": {
        "colab": {
          "base_uri": "https://localhost:8080/"
        },
        "id": "0a0rpPGgliNw",
        "outputId": "0977d957-2477-4de0-dfd0-0a4cce4b8ed3"
      },
      "source": [
        "%%R\n",
        "condition <- c(\"WT\", \"WT\", \"Mut\", \"Mut\")\n",
        "name <- c(\"sample_8\", \"sample_9\", \"sample_10\", \"sample_11\")\n",
        "colData <- data.frame(condition, name)\n",
        "dds <- DESeqDataSetFromMatrix(expr_matrix, colData, design=~condition)\n",
        "print(dds)"
      ],
      "execution_count": null,
      "outputs": [
        {
          "output_type": "stream",
          "text": [
            "class: DESeqDataSet \n",
            "dim: 188753 4 \n",
            "metadata(1): version\n",
            "assays(1): counts\n",
            "rownames(188753): ENST00000631435.1 ENST00000434970.2 ...\n",
            "  ENST00000646356.1 ENST00000645792.1\n",
            "rowData names(0):\n",
            "colnames(4): sample_8 sample_9 sample_10 sample_11\n",
            "colData names(2): condition name\n"
          ],
          "name": "stdout"
        }
      ]
    },
    {
      "cell_type": "markdown",
      "metadata": {
        "id": "b7YjZeNUl2Pg"
      },
      "source": [
        "Мы получили специальный объект класса <code>DESeqDataSet</code>. На нём мы выполним функцию <code>DESeq</code>, которая реализует практически весь анализ дифференциальной экспрессии, который только вшит в пакет."
      ]
    },
    {
      "cell_type": "code",
      "metadata": {
        "colab": {
          "base_uri": "https://localhost:8080/"
        },
        "id": "1BqhBIYIlzBi",
        "outputId": "44b3a876-4b40-4185-fd65-15762885f477"
      },
      "source": [
        "%%R\n",
        "dds <- DESeq(dds)"
      ],
      "execution_count": null,
      "outputs": [
        {
          "output_type": "stream",
          "text": [
            "R[write to console]: estimating size factors\n",
            "\n",
            "R[write to console]: estimating dispersions\n",
            "\n",
            "R[write to console]: gene-wise dispersion estimates\n",
            "\n",
            "R[write to console]: mean-dispersion relationship\n",
            "\n",
            "R[write to console]: final dispersion estimates\n",
            "\n",
            "R[write to console]: fitting model and testing\n",
            "\n"
          ],
          "name": "stderr"
        }
      ]
    },
    {
      "cell_type": "markdown",
      "metadata": {
        "id": "BUfmQ9Lvl7Qo"
      },
      "source": [
        "Теперь посмотрим, что поменялось в переменной <code>dds</code>."
      ]
    },
    {
      "cell_type": "code",
      "metadata": {
        "colab": {
          "base_uri": "https://localhost:8080/"
        },
        "id": "CN1sIt5kl9Ax",
        "outputId": "f3d7ced4-3adc-4c0f-eff9-a02e5af017fb"
      },
      "source": [
        "%%R\n",
        "print(dds)"
      ],
      "execution_count": null,
      "outputs": [
        {
          "output_type": "stream",
          "text": [
            "class: DESeqDataSet \n",
            "dim: 188753 4 \n",
            "metadata(1): version\n",
            "assays(4): counts mu H cooks\n",
            "rownames(188753): ENST00000631435.1 ENST00000434970.2 ...\n",
            "  ENST00000646356.1 ENST00000645792.1\n",
            "rowData names(22): baseMean baseVar ... deviance maxCooks\n",
            "colnames(4): sample_8 sample_9 sample_10 sample_11\n",
            "colData names(3): condition name sizeFactor\n"
          ],
          "name": "stdout"
        }
      ]
    },
    {
      "cell_type": "markdown",
      "metadata": {
        "id": "aXS4FKdxoF54"
      },
      "source": [
        "Посмотрим, какие же из транскриптов дифференциально экспрессированы между двумя обозначенными нами группами. Сначала выведем статистику по каждому транскрипту."
      ]
    },
    {
      "cell_type": "code",
      "metadata": {
        "colab": {
          "base_uri": "https://localhost:8080/"
        },
        "id": "3qR5BhgToGV_",
        "outputId": "ba1414d0-99fb-48cf-bb69-47ee6b4bb866"
      },
      "source": [
        "%%R\n",
        "res <- results(dds)\n",
        "head(results(dds))"
      ],
      "execution_count": null,
      "outputs": [
        {
          "output_type": "stream",
          "text": [
            "log2 fold change (MLE): condition WT vs Mut \n",
            "Wald test p-value: condition WT vs Mut \n",
            "DataFrame with 6 rows and 6 columns\n",
            "                   baseMean log2FoldChange     lfcSE      stat    pvalue\n",
            "                  <numeric>      <numeric> <numeric> <numeric> <numeric>\n",
            "ENST00000631435.1         0             NA        NA        NA        NA\n",
            "ENST00000434970.2         0             NA        NA        NA        NA\n",
            "ENST00000448914.1         0             NA        NA        NA        NA\n",
            "ENST00000415118.1         0             NA        NA        NA        NA\n",
            "ENST00000632684.1         0             NA        NA        NA        NA\n",
            "ENST00000604446.1         0             NA        NA        NA        NA\n",
            "                       padj\n",
            "                  <numeric>\n",
            "ENST00000631435.1        NA\n",
            "ENST00000434970.2        NA\n",
            "ENST00000448914.1        NA\n",
            "ENST00000415118.1        NA\n",
            "ENST00000632684.1        NA\n",
            "ENST00000604446.1        NA\n"
          ],
          "name": "stdout"
        }
      ]
    },
    {
      "cell_type": "markdown",
      "metadata": {
        "id": "XrQPGhSPoIth"
      },
      "source": [
        "Значения NA у нас возникают у генов, которые никак не экспрессированы ни в одном образце (это нормально для человека). Упорядочим гены по p-value<sub>adj</sub>."
      ]
    },
    {
      "cell_type": "code",
      "metadata": {
        "colab": {
          "base_uri": "https://localhost:8080/"
        },
        "id": "FJOaHEXeoK-6",
        "outputId": "da261e49-ff59-4c0c-9c38-caee77739bc8"
      },
      "source": [
        "%%R\n",
        "res <- res[order(res$padj),]\n",
        "head(res)"
      ],
      "execution_count": null,
      "outputs": [
        {
          "output_type": "stream",
          "text": [
            "log2 fold change (MLE): condition WT vs Mut \n",
            "Wald test p-value: condition WT vs Mut \n",
            "DataFrame with 6 rows and 6 columns\n",
            "                   baseMean log2FoldChange     lfcSE      stat      pvalue\n",
            "                  <numeric>      <numeric> <numeric> <numeric>   <numeric>\n",
            "ENST00000307407.8  1561.749       -5.52799  0.396153 -13.95416 2.96770e-44\n",
            "ENST00000336916.8 37946.947        2.82916  0.251364  11.25520 2.18335e-29\n",
            "ENST00000317376.8   442.651        4.87089  0.433865  11.22674 3.01382e-29\n",
            "ENST00000330722.7   747.750       -3.74591  0.384527  -9.74159 2.00385e-22\n",
            "ENST00000436759.6   513.763       10.07369  1.078946   9.33661 9.94685e-21\n",
            "ENST00000264563.7  3768.118       -2.11135  0.226487  -9.32214 1.14020e-20\n",
            "                         padj\n",
            "                    <numeric>\n",
            "ENST00000307407.8 1.55956e-39\n",
            "ENST00000336916.8 5.27930e-25\n",
            "ENST00000317376.8 5.27930e-25\n",
            "ENST00000330722.7 2.63261e-18\n",
            "ENST00000436759.6 8.55981e-17\n",
            "ENST00000264563.7 8.55981e-17\n"
          ],
          "name": "stdout"
        }
      ]
    },
    {
      "cell_type": "markdown",
      "metadata": {
        "id": "xwlZNOb1oQb0"
      },
      "source": [
        "Теперь можно визуализировать разницу между самыми различающимися транскриптами. При помощи функции DESeq2 <code>plotCounts</code> выведем наглядно, какие уровни экспрессии у самым дифференциально экспрессированных транскриптов в обоих условиях."
      ]
    },
    {
      "cell_type": "code",
      "metadata": {
        "colab": {
          "base_uri": "https://localhost:8080/",
          "height": 497
        },
        "id": "z2KMv3T2oSBg",
        "outputId": "9ad48f27-094b-4dd3-fe5a-734b19037cfe"
      },
      "source": [
        "%%R -w 1000\n",
        "#Задаём размер текста и композицию графика\n",
        "par(mfrow=c(2,3), cex=1.0, cex.main=1.2, cex.axis=1, cex.lab=0.9)\n",
        "\n",
        "plotCounts(dds, gene=\"ENST00000307407.8\", intgroup=\"condition\")\n",
        "plotCounts(dds, gene=\"ENST00000336916.8\", intgroup=\"condition\")\n",
        "plotCounts(dds, gene=\"ENST00000317376.8\", intgroup=\"condition\")\n",
        "plotCounts(dds, gene=\"ENST00000330722.7\", intgroup=\"condition\")\n",
        "plotCounts(dds, gene=\"ENST00000436759.6\", intgroup=\"condition\")\n",
        "plotCounts(dds, gene=\"ENST00000264563.7\", intgroup=\"condition\")"
      ],
      "execution_count": null,
      "outputs": [
        {
          "output_type": "display_data",
          "data": {
            "image/png": "[encoded data removed]"
          },
          "metadata": {
            "tags": []
          }
        }
      ]
    },
    {
      "cell_type": "markdown",
      "metadata": {
        "id": "E_5ENCtVobOF"
      },
      "source": [
        "Построим по нашим результатам VolcanoPlot стандартными методами <code>ggplo2</code>. Вообще, для этого есть удобный пакет <code>EnhancedVolcano</code>, однако через rpy2 он не работает."
      ]
    },
    {
      "cell_type": "code",
      "metadata": {
        "colab": {
          "base_uri": "https://localhost:8080/",
          "height": 497
        },
        "id": "v2gW25ayobid",
        "outputId": "e3d0d045-069e-4798-b420-676295027eec"
      },
      "source": [
        "%%R -w 500\n",
        "\n",
        "#Задаём размер текста и композицию графика\n",
        "par(mar=c(5,5,5,5), cex=1.0, cex.main=1.2, cex.axis=1, cex.lab=1.5)\n",
        "\n",
        "#Отрисовываем все точки чёрным цветом\n",
        "with(res, plot(log2FoldChange, -log10(padj), pch=20, main=\"Volcano plot\", cex=1.0, xlab=\"logFC\", ylab=\"-log2(p)\"))\n",
        "\n",
        "#Отрисовываем точки, прошедшие порог, красным цветом\n",
        "with(subset(res, padj<0.001 & abs(log2FoldChange)>3), points(log2FoldChange, -log10(padj), pch=20, col=\"red\", cex=0.5))\n",
        "\n",
        "#Отрисовываем линии с порогами\n",
        "abline(v=0, col=\"black\", lty=3, lwd=1.0)\n",
        "abline(v=-3, col=\"black\", lty=4, lwd=2.0)\n",
        "abline(v=3, col=\"black\", lty=4, lwd=2.0)\n",
        "abline(h=3, col=\"black\", lty=4, lwd=2.0)"
      ],
      "execution_count": null,
      "outputs": [
        {
          "output_type": "display_data",
          "data": {
            "image/png": "[encoded data removed]"
          },
          "metadata": {
            "tags": []
          }
        }
      ]
    },
    {
      "cell_type": "markdown",
      "metadata": {
        "id": "0rhD7awOpLrK"
      },
      "source": [
        "# Домашнее задание\n",
        "\n",
        "<b>Дедлайн</b>: 9 ноября, 23:59\n",
        "\n",
        "<b>Форма отчёта</b>: ссылка на ноутбук в Google Colab или в вашем личном GitHub-репозитории. В ноутбуке должен быть воспроизводимый код, а также ответы на поставленные вопросы."
      ]
    },
    {
      "cell_type": "markdown",
      "metadata": {
        "id": "cN1ZBNsbGKBM"
      },
      "source": [
        "## Задание 1\n",
        "\n",
        "Напишите функцию, которая будет принимать на вход матрицу экспрессий с TPM, а выводить матрицу экспрессий с RPKM."
      ]
    },
    {
      "cell_type": "code",
      "metadata": {
        "id": "gZXYhEwyGSKe"
      },
      "source": [
        "def TPM_to_RPKM(TPMs):\n",
        "  \"\"\"\n",
        "  This function return a dataframe with expressions in RPKM\n",
        "\n",
        "  :TPMs: dataframe with expressions in TPM\n",
        "  \"\"\"\n",
        "\n",
        "  # Вставьте ваш код здесь\n",
        "  \n",
        "  return RPKMs"
      ],
      "execution_count": null,
      "outputs": []
    },
    {
      "cell_type": "markdown",
      "metadata": {
        "id": "g-PSGnFTrqCV"
      },
      "source": [
        "## Задание 2\n",
        "\n",
        "До этого мы с вами работали на уровне транскриптов. Однако транскрипты сами по себе мало о чём нам говорят &mdash; нам интересно посмотреть, какие гены дифференциально экспрессированы. Для этого перед тем, как анализировать дифференциальную экспрессию, преобразуйте таблицу с экспрессиями &mdash; сложите каунты транскриптов, относящихмя к одному гену, и из сумм создайте новую таблицу. Вместо Ensembl ID генов (<code>ENSGXXXX</code>) используйте их названия (<code>gene symbol</code>). После того, как вы составите новую таблицу, повторите проведённый выше анализ. Сравните количество дифференциально экспрессированных транскриптов и дифференциально экспрессированных генов (с p<sub>adj</sub> < 0.01 и logFC > 2).\n",
        "\n",
        "<i>Подсказка: соотнесение транскриптов к генам можно найти в папке с индексом kallisto (однако там почему-то есть не все гены). Также вы можете для ваших целей использовать пакет </i><code>myGene</code><i> на Python 3. Также рекомендуем написать функцию, которая будет одну таблицу трансформировать в другую &mdash; это понадобится вам для следующего задания.</i>"
      ]
    },
    {
      "cell_type": "code",
      "metadata": {
        "id": "V8yqQzXlrpgQ"
      },
      "source": [
        "def transcripts_to_genes(transcripts):\n",
        "  \"\"\"\n",
        "  This function return a dataframe with gene-level expressions\n",
        "\n",
        "  :transcripts: dataframe with transcript-level expression\n",
        "  \"\"\"\n",
        "\n",
        "  # Вставьте ваш код здесь\n",
        "  \n",
        "  return genes"
      ],
      "execution_count": null,
      "outputs": []
    },
    {
      "cell_type": "code",
      "metadata": {
        "id": "xriQGLUL3BIz"
      },
      "source": [
        "# Вставьте ваш код здесь"
      ],
      "execution_count": null,
      "outputs": []
    },
    {
      "cell_type": "markdown",
      "metadata": {
        "id": "FnYglmExqaa6"
      },
      "source": [
        "## Задание 3\n",
        "\n",
        "Загрузите прочтения ещё четырёх образцов из исследования &mdash; две линии с нокаутом <i>KEAP1</i>, а также две линии с наукаутом по обоим генам. Выполните обработку, аналогичную той, которую мы делали на занятии: посмотрите на дифференциально экспрессированные гены для (1) просто нокаутов по <i>KEAP1</i> и для (2) нокаутов по обоим генам. <b>Дифференциальную экспрессию смотрите на уровне генов, а не транскриптов.</b>\n",
        "\n",
        "Являются ли дифференциально экспрессированные гены во втором случае объединением дифференциально экспрессированных генов по нокаутом <i>KEAP1</i> и <i>STK11</i>? Почему?"
      ]
    },
    {
      "cell_type": "code",
      "metadata": {
        "id": "xtPe6fLIpNMY"
      },
      "source": [
        "# Вставьте ваш код здесь"
      ],
      "execution_count": null,
      "outputs": []
    },
    {
      "cell_type": "markdown",
      "metadata": {
        "id": "IYyi_dVQtGJQ"
      },
      "source": [
        "## Задание 4<sup>*</sup>\n",
        "\n",
        "Снизьте размерность транскрипционных профилей образцов при помощи метода клавных компонент. Постройте график по первым двум компонентам из PCA. Как именно это делается можно прочитать <a href=\"https://www.machinelearningmastery.ru/pca-using-python-scikit-learn-e653f8989e60/\" target=\"_blank\">тут</a> (в R это делается одной функцией <code>prcomp</code>). Объясните получившиеся результаты."
      ]
    },
    {
      "cell_type": "code",
      "metadata": {
        "id": "FumUmNCFtHTG"
      },
      "source": [
        "# Вставьте ваш код здесь"
      ],
      "execution_count": null,
      "outputs": []
    }
  ]
}