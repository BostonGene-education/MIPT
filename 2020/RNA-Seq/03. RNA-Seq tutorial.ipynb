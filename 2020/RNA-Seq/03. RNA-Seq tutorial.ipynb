{
  "nbformat": 4,
  "nbformat_minor": 0,
  "metadata": {
    "colab": {
      "name": "RNA-Seq I.ipynb",
      "provenance": [],
      "collapsed_sections": []
    },
    "kernelspec": {
      "name": "python3",
      "display_name": "Python 3"
    }
  },
  "cells": [
    {
      "cell_type": "markdown",
      "metadata": {
        "id": "QYVxe3OSzgqq"
      },
      "source": [
        "<img src=\"https://blastim.ru/wp-content/uploads/wpjobboard/company/49/company-logo/bostongene-logo.jpg\" width=500 align=\"center\">"
      ]
    },
    {
      "cell_type": "markdown",
      "metadata": {
        "id": "T_sCi8Dxvhgj"
      },
      "source": [
        "# Практикум"
      ]
    },
    {
      "cell_type": "markdown",
      "metadata": {
        "id": "2i6SVdavvr-f"
      },
      "source": [
        "## Загрузка прочтений\n",
        "\n",
        "На лекции мы с вами говорили о базе данных NCBI SRA. Для того, чтобы загружать данные оттуда, необходим специальный пакет SRA Toolkit, а также программа <code>fastq-dump</code>. По неведомым мне причинам fastq-dump плохо ставится на Google Colab, поэтому мы загрузим данные из другой большой базы &mdash; <a href=\"https://www.ebi.ac.uk/arrayexpress/\" target=\"_blank\">ArrayExpress</a>.\n",
        "\n",
        "Из ArrayExpress <a href=\"https://www.ebi.ac.uk/arrayexpress/experiments/E-MTAB-9724/\" target=\"_blank\">E-MTAB-9724</a> загрузим несколько прочтений экспериментов RNA-Seq клеточных линий &mdash; с нокаутом гена <i>STK11</i> и с диким типом. <b>Загрузка прочтений может занять много времени!</b>"
      ]
    },
    {
      "cell_type": "code",
      "metadata": {
        "id": "rbT0YEqDvvc5"
      },
      "source": [
        "!mkdir raw_reads\n",
        "!cd raw_reads && mkdir sample_8 sample_9 sample_10 sample_11\n",
        "!cd raw_reads/sample_8 && wget ftp://ftp.sra.ebi.ac.uk/vol1/fastq/ERR478/003/ERR4781423/ERR4781423_1.fastq.gz && wget ftp://ftp.sra.ebi.ac.uk/vol1/fastq/ERR478/003/ERR4781423/ERR4781423_2.fastq.gz\n",
        "!cd raw_reads/sample_9 && wget ftp://ftp.sra.ebi.ac.uk/vol1/fastq/ERR478/004/ERR4781424/ERR4781424_1.fastq.gz && wget ftp://ftp.sra.ebi.ac.uk/vol1/fastq/ERR478/004/ERR4781424/ERR4781424_2.fastq.gz\n",
        "!cd raw_reads/sample_10 && wget ftp://ftp.sra.ebi.ac.uk/vol1/fastq/ERR478/005/ERR4781425/ERR4781425_1.fastq.gz && wget ftp://ftp.sra.ebi.ac.uk/vol1/fastq/ERR478/005/ERR4781425/ERR4781425_2.fastq.gz\n",
        "!cd raw_reads/sample_11 && wget ftp://ftp.sra.ebi.ac.uk/vol1/fastq/ERR478/006/ERR4781426/ERR4781426_1.fastq.gz && wget ftp://ftp.sra.ebi.ac.uk/vol1/fastq/ERR478/006/ERR4781426/ERR4781426_2.fastq.gz"
      ],
      "execution_count": null,
      "outputs": []
    },
    {
      "cell_type": "markdown",
      "metadata": {
        "id": "DSNK1GAXegW1"
      },
      "source": [
        "Теперь установим программу FastQC и проведём контроль качества прочтений."
      ]
    },
    {
      "cell_type": "code",
      "metadata": {
        "id": "hWxikZCtec1A"
      },
      "source": [
        "!sudo apt install fastqc\n",
        "!fastqc raw_reads/sample_8/*.fastq.gz\n",
        "!fastqc raw_reads/sample_9/*.fastq.gz\n",
        "!fastqc raw_reads/sample_10/*.fastq.gz\n",
        "!fastqc raw_reads/sample_11/*.fastq.gz"
      ],
      "execution_count": null,
      "outputs": []
    },
    {
      "cell_type": "markdown",
      "metadata": {
        "id": "l14oybv2gm0x"
      },
      "source": [
        "Теперь можно загрузить .html-отчёт о качестве себе на компьютер и посмотреть, всё ли хорошо с прочтениями."
      ]
    },
    {
      "cell_type": "markdown",
      "metadata": {
        "id": "8ugLuBT5mDEM"
      },
      "source": [
        "## Установка kallisto и подсчёт экспрессии\n",
        "\n",
        "Теперь мы загружаем и устанавливаем саму программу <code>kallisto</code>. При помощи неё мы сможем провести оценку количества прочтений, ложащихся на разные транскрипты."
      ]
    },
    {
      "cell_type": "code",
      "metadata": {
        "id": "ide5eg5tmNFF"
      },
      "source": [
        "!git clone https://github.com/pachterlab/kallisto.git\n",
        "!apt-get install autoconf\n",
        "!cd kallisto && mkdir build && cd build && cmake .. && make"
      ],
      "execution_count": null,
      "outputs": []
    },
    {
      "cell_type": "markdown",
      "metadata": {
        "id": "lbPIlgLws7xH"
      },
      "source": [
        "Теперь загружаем и распаковываем файл с индексированным транскриптомом. В общем случае можно сгенерировать его самому, однако в случае с человеком он обычно уже есть в открытом доступе. Если потребуется делать индекс самостоятельно, то следует воспользоваться командой <code>kallisto index</code>."
      ]
    },
    {
      "cell_type": "code",
      "metadata": {
        "id": "EpYbLVuelpcz"
      },
      "source": [
        "!wget https://github.com/pachterlab/kallisto-transcriptome-indices/releases/download/ensembl-96/homo_sapiens.tar.gz\n",
        "!tar -xvzf homo_sapiens.tar.gz && rm homo_sapiens.tar.gz"
      ],
      "execution_count": null,
      "outputs": []
    },
    {
      "cell_type": "markdown",
      "metadata": {
        "id": "yTXKeqm-JHcq"
      },
      "source": [
        "Итак, всё готово к запуску. Итоговые экспрессии выведем в папку <code>expression_data</code>. Для начала запустим на одном образце и посмотрим, что у нас получилось."
      ]
    },
    {
      "cell_type": "code",
      "metadata": {
        "id": "9FESf5of9CA-"
      },
      "source": [
        "!mkdir expression_data\n",
        "!./kallisto/build/src/kallisto quant -i homo_sapiens/transcriptome.idx -o expression_data/sample_8 raw_reads/sample_8/ERR4781423_1.fastq.gz raw_reads/sample_8/ERR4781423_2.fastq.gz"
      ],
      "execution_count": null,
      "outputs": []
    },
    {
      "cell_type": "markdown",
      "metadata": {
        "id": "Fa6sfROpgumU"
      },
      "source": [
        "Посмотрим, какой выход дала нам программа."
      ]
    },
    {
      "cell_type": "code",
      "metadata": {
        "id": "lEHBkevIhATz"
      },
      "source": [
        "!ls expression_data/sample_8"
      ],
      "execution_count": null,
      "outputs": []
    },
    {
      "cell_type": "markdown",
      "metadata": {
        "id": "qekDXQpohHWq"
      },
      "source": [
        "Теперь посмотрим, что хранится в файле <code>abundance.tsv</code>."
      ]
    },
    {
      "cell_type": "code",
      "metadata": {
        "id": "G0nBwMZohGOE"
      },
      "source": [
        "!head expression_data/sample_8/abundance.tsv"
      ],
      "execution_count": null,
      "outputs": []
    },
    {
      "cell_type": "markdown",
      "metadata": {
        "id": "h6P9ZcUrhRHN"
      },
      "source": [
        "Отлично! Теперь мы видим, что напротив каждого <code>target_id</code> в конце строчки стоит колонка <code>tpm</code>. Повторим предыдущую команду для всех прочтений."
      ]
    },
    {
      "cell_type": "code",
      "metadata": {
        "colab": {
          "base_uri": "https://localhost:8080/"
        },
        "id": "kaH_WI4shXV0",
        "outputId": "1d971002-f91d-43e9-dc51-3bd4d3b50f34"
      },
      "source": [
        "!./kallisto/build/src/kallisto quant -i homo_sapiens/transcriptome.idx -o expression_data/sample_9 raw_reads/sample_9/ERR4781424_1.fastq.gz raw_reads/sample_9/ERR4781424_2.fastq.gz\n",
        "!./kallisto/build/src/kallisto quant -i homo_sapiens/transcriptome.idx -o expression_data/sample_10 raw_reads/sample_10/ERR4781425_1.fastq.gz raw_reads/sample_10/ERR4781425_2.fastq.gz\n",
        "!./kallisto/build/src/kallisto quant -i homo_sapiens/transcriptome.idx -o expression_data/sample_11 raw_reads/sample_11/ERR4781426_1.fastq.gz raw_reads/sample_11/ERR4781426_2.fastq.gz"
      ],
      "execution_count": null,
      "outputs": [
        {
          "output_type": "stream",
          "text": [
            "\n",
            "[quant] fragment length distribution will be estimated from the data\n",
            "[index] k-mer length: 31\n",
            "[index] number of targets: 188,753\n",
            "[index] number of k-mers: 109,544,288\n",
            "tcmalloc: large alloc 3221225472 bytes == 0x561dc2c82000 @  0x7fc1e332f887 0x561dc1611ae2 0x561dc160a071 0x561dc15df05a 0x7fc1e220abf7 0x561dc15e30ea\n",
            "[index] number of equivalence classes: 760,757\n",
            "[quant] running in paired-end mode\n",
            "[quant] will process pair 1: raw_reads/sample_9/ERR4781424_1.fastq.gz\n",
            "                             raw_reads/sample_9/ERR4781424_2.fastq.gz\n",
            "[quant] finding pseudoalignments for the reads ... done\n",
            "[quant] processed 25,354,517 reads, 22,595,696 reads pseudoaligned\n",
            "[quant] estimated average fragment length: 230.865\n",
            "[   em] quantifying the abundances ... done\n",
            "[   em] the Expectation-Maximization algorithm ran for 1,114 rounds\n",
            "\n",
            "\n",
            "[quant] fragment length distribution will be estimated from the data\n",
            "[index] k-mer length: 31\n",
            "[index] number of targets: 188,753\n",
            "[index] number of k-mers: 109,544,288\n",
            "tcmalloc: large alloc 3221225472 bytes == 0x555bc5b9a000 @  0x7f2693baf887 0x555bc327bae2 0x555bc3274071 0x555bc324905a 0x7f2692a8abf7 0x555bc324d0ea\n",
            "[index] number of equivalence classes: 760,757\n",
            "[quant] running in paired-end mode\n",
            "[quant] will process pair 1: raw_reads/sample_10/ERR4781425_1.fastq.gz\n",
            "                             raw_reads/sample_10/ERR4781425_2.fastq.gz\n",
            "[quant] finding pseudoalignments for the reads ... done\n",
            "[quant] processed 28,140,574 reads, 25,641,150 reads pseudoaligned\n",
            "[quant] estimated average fragment length: 222.342\n",
            "[   em] quantifying the abundances ... done\n",
            "[   em] the Expectation-Maximization algorithm ran for 1,533 rounds\n",
            "\n",
            "\n",
            "[quant] fragment length distribution will be estimated from the data\n",
            "[index] k-mer length: 31\n",
            "[index] number of targets: 188,753\n",
            "[index] number of k-mers: 109,544,288\n",
            "tcmalloc: large alloc 3221225472 bytes == 0x56309ffa4000 @  0x7f7205f1c887 0x56309e895ae2 0x56309e88e071 0x56309e86305a 0x7f7204df7bf7 0x56309e8670ea\n",
            "[index] number of equivalence classes: 760,757\n",
            "[quant] running in paired-end mode\n",
            "[quant] will process pair 1: raw_reads/sample_11/ERR4781426_1.fastq.gz\n",
            "                             raw_reads/sample_11/ERR4781426_2.fastq.gz\n",
            "[quant] finding pseudoalignments for the reads ..."
          ],
          "name": "stdout"
        }
      ]
    },
    {
      "cell_type": "markdown",
      "metadata": {
        "id": "rNqB9S9GiGY3"
      },
      "source": [
        "## Создание итоговой таблицы экспрессий"
      ]
    },
    {
      "cell_type": "markdown",
      "metadata": {
        "id": "88glZuOzkIih"
      },
      "source": [
        "Теперь склеим все обсчитанные экспрессии в одну сводную таблицу."
      ]
    },
    {
      "cell_type": "code",
      "metadata": {
        "id": "f0A1I8hkiLlg"
      },
      "source": [
        "expressions_tpm = pd.concat(\n",
        "    [pd.read_csv(\n",
        "        \"expression_data/\" + expression + \"/abundance.tsv\",\n",
        "        sep=\"\\t\", index_col=0, header=0, usecols=[\"target_id\", expression],\n",
        "        names=[\"target_id\", \"1\", \"2\", \"3\", expression]\n",
        "    ) for expression in [\"sample_8\", \"sample_9\", \"sample_10\", \"sample_11\"]],\n",
        "    axis=1\n",
        ")\n",
        "expressions_tpm.columns = [\"sample_8\", \"sample_9\", \"sample_10\", \"sample_11\"]\n",
        "expressions_tpm.head()"
      ],
      "execution_count": null,
      "outputs": []
    },
    {
      "cell_type": "markdown",
      "metadata": {
        "id": "IMhfmvsxjgyx"
      },
      "source": [
        "## Анализ экспрессий\n",
        "\n",
        "Теперь нас ожидает самая интересная задача &mdash; поиск дифференциально экспрессированных генов."
      ]
    },
    {
      "cell_type": "markdown",
      "metadata": {
        "id": "zZvg5iI-jjRt"
      },
      "source": [
        "### rpy2\n",
        "\n",
        "Из-за того, что анализ дифференциальной экспрессии в основном написан для R, мы будем пользоваться пакетом rpy2, чтобы выполнять код R в Python."
      ]
    },
    {
      "cell_type": "code",
      "metadata": {
        "id": "pcWZAq3rjTm-"
      },
      "source": [
        "import seaborn as sns\n",
        "import matplotlib.pyplot as plt\n",
        "import rpy2\n",
        "from rpy2.robjects import r, pandas2ri"
      ],
      "execution_count": null,
      "outputs": []
    },
    {
      "cell_type": "code",
      "metadata": {
        "id": "6FPbZxzxjzLB"
      },
      "source": [
        "%load_ext rpy2.ipython\n",
        "pandas2ri.activate()"
      ],
      "execution_count": null,
      "outputs": []
    },
    {
      "cell_type": "markdown",
      "metadata": {
        "id": "ICII1vkTj2oE"
      },
      "source": [
        "Вот таким образом выглядит ячейка, которая будет выполняться как R-скрипт:"
      ]
    },
    {
      "cell_type": "code",
      "metadata": {
        "id": "TGkP8gKoj0mE"
      },
      "source": [
        "%%R\n",
        "a <- c(1,2,3)\n",
        "a <- a**2\n",
        "print(a)"
      ],
      "execution_count": null,
      "outputs": []
    },
    {
      "cell_type": "markdown",
      "metadata": {
        "id": "tRURYMxsj6yc"
      },
      "source": [
        "Для того, чтобы объекты из окружения R попали в окружение Python (и наоборот), необходимо выполнить следующее (обратите внимание, что выгружаемый объект имеет непривычный для Python тип):"
      ]
    },
    {
      "cell_type": "code",
      "metadata": {
        "id": "VI6B7GENj5Rc"
      },
      "source": [
        "a = 20\n",
        "%R -i a\n",
        "%R a <- a**2\n",
        "%R -o a\n",
        "print(a, type(a))"
      ],
      "execution_count": null,
      "outputs": []
    },
    {
      "cell_type": "markdown",
      "metadata": {
        "id": "cyeE9_BCkQ1g"
      },
      "source": [
        "Если хочется более подробно овладеть rpy2, то лучше прочитайте <a href=\"https://rpy2.github.io/doc/latest/html/index.html\" target=\"_blank\">его документацию</a>."
      ]
    },
    {
      "cell_type": "markdown",
      "metadata": {
        "id": "_l2AziC-kss-"
      },
      "source": [
        "### Анализ дифференциальной экспрессии при помощи DESeq2\n",
        "\n",
        "Сейчас необходимо будет поставить пакеты для R в наше окружение. Следующие строки будут начинаться с <code>warnings.warn(x, RRuntimeWarning)</code>, однако не стоит переживать. Это лишь говорит о том, что эта строчка должна быть окрашена в красный цвет. После успешной установки пакетов появится поле для ввода: можно будет завершить эту ячейку, нажав на знак <b>стоп</b> (закрашенный квадратик) справа."
      ]
    },
    {
      "cell_type": "code",
      "metadata": {
        "id": "zzRdaGfFkqeY"
      },
      "source": [
        "%%R\n",
        "if (!requireNamespace(\"BiocManager\", quietly = TRUE))\n",
        "    install.packages(\"BiocManager\")\n",
        "\n",
        "BiocManager::install(\"DESeq2\")\n",
        "\n",
        "library(\"DESeq2\")\n",
        "library(ggplot2)"
      ],
      "execution_count": null,
      "outputs": []
    },
    {
      "cell_type": "code",
      "metadata": {
        "id": "-LnGMH_xk1RG"
      },
      "source": [
        "%%R\n",
        "library(\"DESeq2\")\n",
        "library(ggplot2)"
      ],
      "execution_count": null,
      "outputs": []
    },
    {
      "cell_type": "markdown",
      "metadata": {
        "id": "bb99OOfAk26D"
      },
      "source": [
        "На этом этапе мы перегружаем наш датафрейм из Python в R, чтобы дальше с ним работать там. Чтобы убедиться, что у нас нет проблем с типами данных, чётко зададим значения матрицы каунтов как <code>int32</code>."
      ]
    },
    {
      "cell_type": "code",
      "metadata": {
        "id": "61Be9VxHk4_I"
      },
      "source": [
        "expr_matrix = expressions_count.copy()\n",
        "expr_matrix = expr_matrix.astype(\"int32\")\n",
        "expr_matrix.index.name = \"\"\n",
        "gene_id = expr_matrix.index.copy()\n",
        "%R -i expr_matrix\n",
        "%R -i gene_id"
      ],
      "execution_count": null,
      "outputs": []
    },
    {
      "cell_type": "code",
      "metadata": {
        "id": "aZYV6qcVlM0-"
      },
      "source": [
        "%%R\n",
        "rownames(expr_matrix) = make.names(gene_id, unique=TRUE)\n",
        "head(expr_matrix)"
      ],
      "execution_count": null,
      "outputs": []
    },
    {
      "cell_type": "markdown",
      "metadata": {
        "id": "kLUz4ByzlO8W"
      },
      "source": [
        "Теперь необходимо создать аннотацию для каждого семпла. Аннотация представляет из себя ещё один датафрейм. Также мы сделаем новую переменную <code>dds</code> специального типа, который используется при работе в <code>DESeq2</code>. В нашем простейшем случае у нас, помимо названий колонок, будут условия, которыми они разделяются (WT против Mut). Считать GLM мы будем, указывая в качестве предиктора именно их. Важно иметь в виду, что модель может оценивать дифференциальную экспрессию в зависимости от сразу нескольких факторов, которые могут быть в том числе и количественные."
      ]
    },
    {
      "cell_type": "code",
      "metadata": {
        "id": "0a0rpPGgliNw"
      },
      "source": [
        "%%R\n",
        "condition <- c(\"WT\", \"WT\", \"Mut\", \"Mut\")\n",
        "name <- c(\"sample_8\", \"sample_9\", \"sample_10\", \"sample_11\")\n",
        "colData <- data.frame(condition, name)\n",
        "dds <- DESeqDataSetFromMatrix(expr_matrix, colData, design=~condition)\n",
        "print(dds)"
      ],
      "execution_count": null,
      "outputs": []
    },
    {
      "cell_type": "markdown",
      "metadata": {
        "id": "b7YjZeNUl2Pg"
      },
      "source": [
        "Теперь мы получили специальный объект класса <code>DESeqDataSet</code>, с которым мы выполним функцию <code>DESeq</code>, которая выполняет практически весь анализ дифференциальной экспрессии, который только вшит в пакет."
      ]
    },
    {
      "cell_type": "code",
      "metadata": {
        "id": "1BqhBIYIlzBi"
      },
      "source": [
        "%%R\n",
        "dds <- DESeq(dds)"
      ],
      "execution_count": null,
      "outputs": []
    },
    {
      "cell_type": "markdown",
      "metadata": {
        "id": "BUfmQ9Lvl7Qo"
      },
      "source": [
        "Теперь посмотрим, что поменялось в переменной <code>dds</code>."
      ]
    },
    {
      "cell_type": "code",
      "metadata": {
        "id": "CN1sIt5kl9Ax"
      },
      "source": [
        "%%R\n",
        "print(dds)"
      ],
      "execution_count": null,
      "outputs": []
    },
    {
      "cell_type": "markdown",
      "metadata": {
        "id": "aXS4FKdxoF54"
      },
      "source": [
        "Посмотрим, какие же из транскриптов дифференциально экспрессированы между двумя обозначенными нами группами. Сначала выведем статистику по каждому транскрипту."
      ]
    },
    {
      "cell_type": "code",
      "metadata": {
        "id": "3qR5BhgToGV_"
      },
      "source": [
        "%%R\n",
        "res <- results(dds)\n",
        "head(results(dds))"
      ],
      "execution_count": null,
      "outputs": []
    },
    {
      "cell_type": "markdown",
      "metadata": {
        "id": "XrQPGhSPoIth"
      },
      "source": [
        "Упорядочим их по p-value."
      ]
    },
    {
      "cell_type": "code",
      "metadata": {
        "id": "FJOaHEXeoK-6"
      },
      "source": [
        "%%R\n",
        "res <- res[order(res$padj),]\n",
        "head(res)"
      ],
      "execution_count": null,
      "outputs": []
    },
    {
      "cell_type": "markdown",
      "metadata": {
        "id": "xwlZNOb1oQb0"
      },
      "source": [
        "Теперь можно визуализировать разницу между самыми различающимися транскриптами."
      ]
    },
    {
      "cell_type": "code",
      "metadata": {
        "id": "z2KMv3T2oSBg"
      },
      "source": [
        "%%R -w 1000\n",
        "par(mfrow=c(2,3))\n",
        "\n",
        "plotCounts(dds, gene=\"\", intgroup=\"condition\")"
      ],
      "execution_count": null,
      "outputs": []
    },
    {
      "cell_type": "markdown",
      "metadata": {
        "id": "E_5ENCtVobOF"
      },
      "source": [
        "Визуализировать результаты удобно при помощи volcano plot."
      ]
    },
    {
      "cell_type": "code",
      "metadata": {
        "id": "v2gW25ayobid"
      },
      "source": [
        "%%R -w 1000\n",
        "par(mfrow=c(1,1))\n",
        "\n",
        "with(res, plot(log2FoldChange, -log10(pvalue), pch=20, main=\"Volcano plot\", xlim=c(-3,3)))\n",
        "\n",
        "#Покрасим синим точки, у которых p_adj < 0.01, а красным точки, у которых p_adj < 0.01 и logFC > 2.\n",
        "with(subset(res, padj<.01 ), points(log2FoldChange, -log10(pvalue), pch=20, col=\"blue\"))\n",
        "with(subset(res, padj<.01 & abs(log2FoldChange)>2), points(log2FoldChange, -log10(pvalue), pch=20, col=\"red\"))"
      ],
      "execution_count": null,
      "outputs": []
    },
    {
      "cell_type": "markdown",
      "metadata": {
        "id": "0rhD7awOpLrK"
      },
      "source": [
        "# Домашнее задание"
      ]
    },
    {
      "cell_type": "markdown",
      "metadata": {
        "id": "g-PSGnFTrqCV"
      },
      "source": [
        "## Задание 1\n",
        "\n",
        "До этого мы с вами работали на уровне транскриптов. Однако транскрипты сами по себе мало о чём нам говорят &mdash; нам интересно посмотреть, какие гены дифференциально экспрессированы. Для этого перед тем, как анализировать дифференциальную экспрессию, преобразуйте таблицу с экспрессиями &mdash; сложите каунты транскриптов, относящихмя к одному гену, и создайте новую таблицу, в которой будут суммы транскриптов по генам. Вместо Ensembl ID генов (<code>ENSGXXXX</code>) используйте названия (<code>gene symbol</code>).\n",
        "\n",
        "<i>Подсказка: соотнесение транскриптов к генам можно найти на сайте Ensembl. Также вы можете для ваших целей использовать пакет </i><code>myGene</code><i> на Python 3.</i>"
      ]
    },
    {
      "cell_type": "code",
      "metadata": {
        "id": "V8yqQzXlrpgQ"
      },
      "source": [
        ""
      ],
      "execution_count": null,
      "outputs": []
    },
    {
      "cell_type": "markdown",
      "metadata": {
        "id": "FnYglmExqaa6"
      },
      "source": [
        "## Задание 2\n",
        "\n",
        "Загрузите прочтения ещё четырёх образцов из исследования &mdash; две линии с нокаутом <i>KEAP1</i>, а также две линии с наукаутом по обоим генам. Выполните обработку, аналогичную той, которую мы делали на занятии: посмотрите на дифференциально экспрессированные гены для (1) просто нокаутов по <i>KEAP1</i> и для (2) нокаутов по обоим генам.\n",
        "\n",
        "Являются ли дифференциально экспрессированные гены во втором случае объединением дифференциально экспрессированных генов по нокаутом <i>KEAP1</i> и <i>STK11</i>? Почему?"
      ]
    },
    {
      "cell_type": "code",
      "metadata": {
        "id": "xtPe6fLIpNMY"
      },
      "source": [
        ""
      ],
      "execution_count": null,
      "outputs": []
    },
    {
      "cell_type": "markdown",
      "metadata": {
        "id": "IYyi_dVQtGJQ"
      },
      "source": [
        "## Задание 3\n",
        "\n",
        "Постройте PCA для получившихся образцов. Как именно это делается можно прочитать <a href=\"https://www.machinelearningmastery.ru/pca-using-python-scikit-learn-e653f8989e60/\" target=\"_blank\">тут</a> (в R это делается вообще одной функцией <code>prcomp</code>). Объясните получившиеся результаты. Что именно вы ожидали увидеть на этом графике PCA?"
      ]
    },
    {
      "cell_type": "code",
      "metadata": {
        "id": "FumUmNCFtHTG"
      },
      "source": [
        ""
      ],
      "execution_count": null,
      "outputs": []
    }
  ]
}